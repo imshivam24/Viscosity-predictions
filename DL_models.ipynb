{
 "cells": [
  {
   "cell_type": "markdown",
   "metadata": {
    "colab_type": "text",
    "id": "AXDjrODn-JWF"
   },
   "source": [
    "**We will create a base model of 5X5 and then we will try variations in topology to figure out best possible model out of certain models**"
   ]
  },
  {
   "cell_type": "code",
   "execution_count": 0,
   "metadata": {
    "colab": {},
    "colab_type": "code",
    "id": "_0ZlKuui_TgJ"
   },
   "outputs": [],
   "source": [
    "from tensorflow import keras\n",
    "import pandas as pd\n",
    "import numpy as np\n",
    "from keras import Sequential\n",
    "from keras.layers import Dense,Activation\n",
    "from keras.wrappers.scikit_learn import KerasRegressor\n",
    "from sklearn.preprocessing import StandardScaler\n",
    "from sklearn.preprocessing import MinMaxScaler\n",
    "from sklearn.model_selection import train_test_split\n",
    "from sklearn.model_selection import cross_val_score\n",
    "from sklearn.model_selection import KFold\n",
    "import statistics as st\n",
    "from sklearn.model_selection import GridSearchCV"
   ]
  },
  {
   "cell_type": "code",
   "execution_count": 0,
   "metadata": {
    "colab": {},
    "colab_type": "code",
    "id": "-556xH0F_sUL"
   },
   "outputs": [],
   "source": [
    "data=pd.read_csv(r\"/content/Data.csv\")"
   ]
  },
  {
   "cell_type": "code",
   "execution_count": 3,
   "metadata": {
    "colab": {
     "base_uri": "https://localhost:8080/",
     "height": 111
    },
    "colab_type": "code",
    "id": "umaNJpHaAEmI",
    "outputId": "a4ecedba-982a-4eb2-884f-0f8fe81a78fd"
   },
   "outputs": [
    {
     "data": {
      "text/html": [
       "<div>\n",
       "<style scoped>\n",
       "    .dataframe tbody tr th:only-of-type {\n",
       "        vertical-align: middle;\n",
       "    }\n",
       "\n",
       "    .dataframe tbody tr th {\n",
       "        vertical-align: top;\n",
       "    }\n",
       "\n",
       "    .dataframe thead th {\n",
       "        text-align: right;\n",
       "    }\n",
       "</style>\n",
       "<table border=\"1\" class=\"dataframe\">\n",
       "  <thead>\n",
       "    <tr style=\"text-align: right;\">\n",
       "      <th></th>\n",
       "      <th>log(shear rate) in s^-1</th>\n",
       "      <th>Polymer conc(wt%)</th>\n",
       "      <th>NaCl concentration(wt%)</th>\n",
       "      <th>Ca+2 concentration(wt%)</th>\n",
       "      <th>Temperature(in celsius)</th>\n",
       "      <th>log(viscosity) in cP</th>\n",
       "    </tr>\n",
       "  </thead>\n",
       "  <tbody>\n",
       "    <tr>\n",
       "      <th>0</th>\n",
       "      <td>0.010415</td>\n",
       "      <td>0.3</td>\n",
       "      <td>0.1</td>\n",
       "      <td>0.0</td>\n",
       "      <td>25.0</td>\n",
       "      <td>2309.56</td>\n",
       "    </tr>\n",
       "    <tr>\n",
       "      <th>1</th>\n",
       "      <td>0.022561</td>\n",
       "      <td>0.3</td>\n",
       "      <td>0.1</td>\n",
       "      <td>0.0</td>\n",
       "      <td>25.0</td>\n",
       "      <td>2298.77</td>\n",
       "    </tr>\n",
       "  </tbody>\n",
       "</table>\n",
       "</div>"
      ],
      "text/plain": [
       "   log(shear rate) in s^-1  ...  log(viscosity) in cP\n",
       "0                 0.010415  ...               2309.56\n",
       "1                 0.022561  ...               2298.77\n",
       "\n",
       "[2 rows x 6 columns]"
      ]
     },
     "execution_count": 3,
     "metadata": {
      "tags": []
     },
     "output_type": "execute_result"
    }
   ],
   "source": [
    "data.head(2)"
   ]
  },
  {
   "cell_type": "code",
   "execution_count": 0,
   "metadata": {
    "colab": {},
    "colab_type": "code",
    "id": "XKq8q6zAAHO4"
   },
   "outputs": [],
   "source": [
    "\n",
    "# independent variables (X):shear rate, Polymer conc, NaCl concentration, Ca+2 concentration, Temperature\n",
    "# dependent variable (Y): Viscosity\n",
    "\n",
    "X=data[data.columns[0:5]]\n",
    "Y=data[['log(viscosity) in cP']]"
   ]
  },
  {
   "cell_type": "code",
   "execution_count": 5,
   "metadata": {
    "colab": {
     "base_uri": "https://localhost:8080/",
     "height": 34
    },
    "colab_type": "code",
    "id": "eO1dPZ9NuTk1",
    "outputId": "da254936-9eb0-4309-9c5d-7fc574ce9676"
   },
   "outputs": [
    {
     "data": {
      "text/plain": [
       "(654, 5)"
      ]
     },
     "execution_count": 5,
     "metadata": {
      "tags": []
     },
     "output_type": "execute_result"
    }
   ],
   "source": [
    "X.shape"
   ]
  },
  {
   "cell_type": "code",
   "execution_count": 6,
   "metadata": {
    "colab": {
     "base_uri": "https://localhost:8080/",
     "height": 111
    },
    "colab_type": "code",
    "id": "m0KkSwp3ALIN",
    "outputId": "35712296-1a4a-4c95-c6e6-27d5b10e4fd4"
   },
   "outputs": [
    {
     "data": {
      "text/html": [
       "<div>\n",
       "<style scoped>\n",
       "    .dataframe tbody tr th:only-of-type {\n",
       "        vertical-align: middle;\n",
       "    }\n",
       "\n",
       "    .dataframe tbody tr th {\n",
       "        vertical-align: top;\n",
       "    }\n",
       "\n",
       "    .dataframe thead th {\n",
       "        text-align: right;\n",
       "    }\n",
       "</style>\n",
       "<table border=\"1\" class=\"dataframe\">\n",
       "  <thead>\n",
       "    <tr style=\"text-align: right;\">\n",
       "      <th></th>\n",
       "      <th>log(shear rate) in s^-1</th>\n",
       "      <th>Polymer conc(wt%)</th>\n",
       "      <th>NaCl concentration(wt%)</th>\n",
       "      <th>Ca+2 concentration(wt%)</th>\n",
       "      <th>Temperature(in celsius)</th>\n",
       "    </tr>\n",
       "  </thead>\n",
       "  <tbody>\n",
       "    <tr>\n",
       "      <th>0</th>\n",
       "      <td>0.010415</td>\n",
       "      <td>0.3</td>\n",
       "      <td>0.1</td>\n",
       "      <td>0.0</td>\n",
       "      <td>25.0</td>\n",
       "    </tr>\n",
       "    <tr>\n",
       "      <th>1</th>\n",
       "      <td>0.022561</td>\n",
       "      <td>0.3</td>\n",
       "      <td>0.1</td>\n",
       "      <td>0.0</td>\n",
       "      <td>25.0</td>\n",
       "    </tr>\n",
       "  </tbody>\n",
       "</table>\n",
       "</div>"
      ],
      "text/plain": [
       "   log(shear rate) in s^-1  ...  Temperature(in celsius)\n",
       "0                 0.010415  ...                     25.0\n",
       "1                 0.022561  ...                     25.0\n",
       "\n",
       "[2 rows x 5 columns]"
      ]
     },
     "execution_count": 6,
     "metadata": {
      "tags": []
     },
     "output_type": "execute_result"
    }
   ],
   "source": [
    "X.head(2)"
   ]
  },
  {
   "cell_type": "code",
   "execution_count": 7,
   "metadata": {
    "colab": {
     "base_uri": "https://localhost:8080/",
     "height": 111
    },
    "colab_type": "code",
    "id": "oUs_tD5PAOLE",
    "outputId": "1e5cf1a7-1f2b-4a03-e723-13605c32d289"
   },
   "outputs": [
    {
     "data": {
      "text/html": [
       "<div>\n",
       "<style scoped>\n",
       "    .dataframe tbody tr th:only-of-type {\n",
       "        vertical-align: middle;\n",
       "    }\n",
       "\n",
       "    .dataframe tbody tr th {\n",
       "        vertical-align: top;\n",
       "    }\n",
       "\n",
       "    .dataframe thead th {\n",
       "        text-align: right;\n",
       "    }\n",
       "</style>\n",
       "<table border=\"1\" class=\"dataframe\">\n",
       "  <thead>\n",
       "    <tr style=\"text-align: right;\">\n",
       "      <th></th>\n",
       "      <th>log(viscosity) in cP</th>\n",
       "    </tr>\n",
       "  </thead>\n",
       "  <tbody>\n",
       "    <tr>\n",
       "      <th>0</th>\n",
       "      <td>2309.56</td>\n",
       "    </tr>\n",
       "    <tr>\n",
       "      <th>1</th>\n",
       "      <td>2298.77</td>\n",
       "    </tr>\n",
       "  </tbody>\n",
       "</table>\n",
       "</div>"
      ],
      "text/plain": [
       "   log(viscosity) in cP\n",
       "0               2309.56\n",
       "1               2298.77"
      ]
     },
     "execution_count": 7,
     "metadata": {
      "tags": []
     },
     "output_type": "execute_result"
    }
   ],
   "source": [
    "Y[0:2]"
   ]
  },
  {
   "cell_type": "code",
   "execution_count": 0,
   "metadata": {
    "colab": {},
    "colab_type": "code",
    "id": "JMwVNgYPARsy"
   },
   "outputs": [],
   "source": [
    "### standardize the dependent variables\n",
    "\n",
    "scaler_1=MinMaxScaler()\n",
    "X=pd.DataFrame(scaler_1.fit_transform(X),columns=X.columns)\n",
    "\n",
    "### scaling viscosity values between 0 to 1\n",
    "\n",
    "scaler_2=StandardScaler()\n",
    "Y=pd.DataFrame(scaler_2.fit_transform(Y),columns=Y.columns)\n"
   ]
  },
  {
   "cell_type": "code",
   "execution_count": 0,
   "metadata": {
    "colab": {},
    "colab_type": "code",
    "id": "FBQIJHKAAUvA"
   },
   "outputs": [],
   "source": [
    "#creating a base model with two hidden layers and 5 neurons each\n",
    "def build_model():\n",
    "  model=Sequential()\n",
    "  model.add(Dense(5,input_dim=5,kernel_initializer='normal',activation='relu'))\n",
    "  model.add(Dense(5,kernel_initializer='normal',activation='relu'))\n",
    "  model.add(Dense(5,kernel_initializer='normal',activation='relu'))\n",
    "  model.add(Dense(1,kernel_initializer='normal'))\n",
    "\n",
    "  model.compile(loss='mean_squared_error',optimizer='adam')\n",
    "  return model"
   ]
  },
  {
   "cell_type": "code",
   "execution_count": 0,
   "metadata": {
    "colab": {},
    "colab_type": "code",
    "id": "1Mk0qvLnA34v"
   },
   "outputs": [],
   "source": [
    "estimator=KerasRegressor( build_fn=build_model,epochs=10,batch_size=2,verbose=0)"
   ]
  },
  {
   "cell_type": "code",
   "execution_count": 0,
   "metadata": {
    "colab": {},
    "colab_type": "code",
    "id": "pWqVcEnXuI_r"
   },
   "outputs": [],
   "source": [
    "score_1=[]\n",
    "cv= KFold(n_splits=10, random_state=0, shuffle=True)\n",
    "for train_index, test_index in cv.split(X):\n",
    "  X_train, X_test, Y_train, Y_test = X.iloc[train_index], X.iloc[test_index], Y.iloc[train_index], Y.iloc[test_index]\n",
    "  estimator.fit(X_train,Y_train)\n",
    "  pred_1=estimator.predict(X_test)\n",
    "  err_1=np.mean(np.abs((Y_test['log(viscosity) in cP']-pred_1)/Y_test['log(viscosity) in cP'])*100)\n",
    "  score_1.append(err_1)\n"
   ]
  },
  {
   "cell_type": "code",
   "execution_count": 37,
   "metadata": {
    "colab": {
     "base_uri": "https://localhost:8080/",
     "height": 187
    },
    "colab_type": "code",
    "id": "x_k1dWdx968p",
    "outputId": "1153c2e5-4301-402a-863a-7fcca0835af4"
   },
   "outputs": [
    {
     "data": {
      "text/plain": [
       "[96.93842500700039,\n",
       " 174.01752842330262,\n",
       " 244.1997867628992,\n",
       " 101.48681269367555,\n",
       " 53.66420941901988,\n",
       " 243.72270412546936,\n",
       " 94.81816592549097,\n",
       " 127.65353671431068,\n",
       " 114.37972217865955,\n",
       " 121.11780958607274]"
      ]
     },
     "execution_count": 37,
     "metadata": {
      "tags": []
     },
     "output_type": "execute_result"
    }
   ],
   "source": [
    "score_1"
   ]
  },
  {
   "cell_type": "code",
   "execution_count": 38,
   "metadata": {
    "colab": {
     "base_uri": "https://localhost:8080/",
     "height": 34
    },
    "colab_type": "code",
    "id": "4zB6Y3SFKymV",
    "outputId": "87efbaaa-479b-4c42-8baf-944397355983"
   },
   "outputs": [
    {
     "data": {
      "text/plain": [
       "137.1998700835901"
      ]
     },
     "execution_count": 38,
     "metadata": {
      "tags": []
     },
     "output_type": "execute_result"
    }
   ],
   "source": [
    "st.mean(score_1)"
   ]
  },
  {
   "cell_type": "markdown",
   "metadata": {
    "colab_type": "text",
    "id": "cnkWdbZ2DUnk"
   },
   "source": [
    "**Model is performing really bad**"
   ]
  },
  {
   "cell_type": "markdown",
   "metadata": {
    "colab_type": "text",
    "id": "Zd_flebSZZzi"
   },
   "source": [
    "**Let's try to deepen the network**"
   ]
  },
  {
   "cell_type": "code",
   "execution_count": 0,
   "metadata": {
    "colab": {},
    "colab_type": "code",
    "id": "8-mj2h6JZOV-"
   },
   "outputs": [],
   "source": [
    "def build_deep():\n",
    "  model_2=Sequential()\n",
    "  model_2.add(Dense(5,input_dim=5,kernel_initializer='normal',activation='relu'))\n",
    "  model_2.add(Dense(5,kernel_initializer='normal',activation='relu'))\n",
    "  model_2.add(Dense(5,kernel_initializer='normal',activation='relu'))\n",
    "  model_2.add(Dense(5,kernel_initializer='normal',activation='relu'))\n",
    "  model_2.add(Dense(5,kernel_initializer='normal',activation='relu'))\n",
    "  model_2.add(Dense(1,kernel_initializer='normal'))\n",
    "\n",
    "  model_2.compile(loss='mean_squared_error',optimizer='adam')\n",
    "  return model_2"
   ]
  },
  {
   "cell_type": "code",
   "execution_count": 0,
   "metadata": {
    "colab": {},
    "colab_type": "code",
    "id": "Qc3eg7OEZxuP"
   },
   "outputs": [],
   "source": [
    "estimator_2=KerasRegressor( build_fn=build_deep,epochs=10,batch_size=2,verbose=0)\n",
    "score_2=[]\n",
    "cv= KFold(n_splits=10, random_state=0, shuffle=True)\n",
    "for train_index, test_index in cv.split(X):\n",
    "  X_train, X_test, Y_train, Y_test = X.iloc[train_index], X.iloc[test_index], Y.iloc[train_index], Y.iloc[test_index]\n",
    "  estimator_2.fit(X_train,Y_train)\n",
    "  pred_2=estimator_2.predict(X_test)\n",
    "  err_2=np.mean(np.abs((Y_test['log(viscosity) in cP']-pred_2)/Y_test['log(viscosity) in cP'])*100)\n",
    "  score_2.append(err_2)"
   ]
  },
  {
   "cell_type": "code",
   "execution_count": 41,
   "metadata": {
    "colab": {
     "base_uri": "https://localhost:8080/",
     "height": 187
    },
    "colab_type": "code",
    "id": "ZPAnYUBtZ_aT",
    "outputId": "f277bee9-ecc8-4bc9-a0fc-06a035ac01ac"
   },
   "outputs": [
    {
     "data": {
      "text/plain": [
       "[94.65953429411475,\n",
       " 97.68577631842949,\n",
       " 113.11068802115533,\n",
       " 80.37638669364439,\n",
       " 107.47123886767321,\n",
       " 110.0580071124131,\n",
       " 67.03639563628825,\n",
       " 106.54316076911218,\n",
       " 112.26459876277134,\n",
       " 117.13395660659054]"
      ]
     },
     "execution_count": 41,
     "metadata": {
      "tags": []
     },
     "output_type": "execute_result"
    }
   ],
   "source": [
    "score_2"
   ]
  },
  {
   "cell_type": "code",
   "execution_count": 42,
   "metadata": {
    "colab": {
     "base_uri": "https://localhost:8080/",
     "height": 34
    },
    "colab_type": "code",
    "id": "t8kofpSCLSXZ",
    "outputId": "76ee83a4-f452-428f-c3aa-07e4a806615f"
   },
   "outputs": [
    {
     "data": {
      "text/plain": [
       "100.63397430821925"
      ]
     },
     "execution_count": 42,
     "metadata": {
      "tags": []
     },
     "output_type": "execute_result"
    }
   ],
   "source": [
    "st.mean(score_2)"
   ]
  },
  {
   "cell_type": "markdown",
   "metadata": {
    "colab_type": "text",
    "id": "7BSXYybeFtMe"
   },
   "source": [
    "**incresing hidden layers is somehow making the predictions more robust as for every batch eroor is almost similar, I tested on 3 hidden layers then 4 hidden layers after that it appears that adding further layes is not contributing much to accuracy so we will keep 4 layers**"
   ]
  },
  {
   "cell_type": "markdown",
   "metadata": {
    "colab_type": "text",
    "id": "u-LwPOJrbA0v"
   },
   "source": [
    "**Let's try a wider topology with 4 hiddene layers deep**"
   ]
  },
  {
   "cell_type": "code",
   "execution_count": 0,
   "metadata": {
    "colab": {},
    "colab_type": "code",
    "id": "xPlKBvmuahVI"
   },
   "outputs": [],
   "source": [
    "def build_wide():\n",
    "  model_3=Sequential()\n",
    "  model_3.add(Dense(5,input_dim=5,kernel_initializer='normal',activation='relu'))\n",
    "  model_3.add(Dense(5,kernel_initializer='normal',activation='relu'))\n",
    "  model_3.add(Dense(6,kernel_initializer='normal',activation='relu'))\n",
    "  model_3.add(Dense(7,kernel_initializer='normal',activation='relu'))\n",
    "  model_3.add(Dense(8,kernel_initializer='normal',activation='relu'))\n",
    "  model_3.add(Dense(1,kernel_initializer='normal'))\n",
    "\n",
    "  model_3.compile(loss='mean_squared_error',optimizer='adam')\n",
    "  return model_3"
   ]
  },
  {
   "cell_type": "code",
   "execution_count": 0,
   "metadata": {
    "colab": {},
    "colab_type": "code",
    "id": "BSj34oF7bTxb"
   },
   "outputs": [],
   "source": [
    "estimator_3=KerasRegressor( build_fn=build_wide,epochs=10,batch_size=2,verbose=0)\n",
    "score_3=[]\n",
    "cv= KFold(n_splits=10, random_state=0, shuffle=True)\n",
    "for train_index, test_index in cv.split(X):\n",
    "  X_train, X_test, Y_train, Y_test = X.iloc[train_index], X.iloc[test_index], Y.iloc[train_index], Y.iloc[test_index]\n",
    "  estimator_3.fit(X_train,Y_train)\n",
    "  pred_3=estimator_3.predict(X_test)\n",
    "  err_3=np.mean(np.abs((Y_test['log(viscosity) in cP']-pred_3)/Y_test['log(viscosity) in cP'])*100)\n",
    "  score_3.append(err_3)"
   ]
  },
  {
   "cell_type": "code",
   "execution_count": 58,
   "metadata": {
    "colab": {
     "base_uri": "https://localhost:8080/",
     "height": 187
    },
    "colab_type": "code",
    "id": "iXJGA0KUbmQO",
    "outputId": "41a432a5-0825-498a-9320-64bb34a1e4a3"
   },
   "outputs": [
    {
     "data": {
      "text/plain": [
       "[71.68124087982777,\n",
       " 97.31884307185774,\n",
       " 107.69417806680296,\n",
       " 95.06079807544911,\n",
       " 107.37028838743373,\n",
       " 112.07468038418438,\n",
       " 95.52625470974519,\n",
       " 105.62949507083431,\n",
       " 111.01101500540194,\n",
       " 119.72571609255776]"
      ]
     },
     "execution_count": 58,
     "metadata": {
      "tags": []
     },
     "output_type": "execute_result"
    }
   ],
   "source": [
    "score_3"
   ]
  },
  {
   "cell_type": "code",
   "execution_count": 59,
   "metadata": {
    "colab": {
     "base_uri": "https://localhost:8080/",
     "height": 34
    },
    "colab_type": "code",
    "id": "nJm5wqThb1-i",
    "outputId": "7ac473a4-611c-42f5-e88f-dcae49608ed9"
   },
   "outputs": [
    {
     "data": {
      "text/plain": [
       "102.3092509744095"
      ]
     },
     "execution_count": 59,
     "metadata": {
      "tags": []
     },
     "output_type": "execute_result"
    }
   ],
   "source": [
    "st.mean(score_3)"
   ]
  },
  {
   "cell_type": "markdown",
   "metadata": {
    "colab_type": "text",
    "id": "CG83Ji4KRJHi"
   },
   "source": [
    "** Trying various possibilities **"
   ]
  },
  {
   "cell_type": "code",
   "execution_count": 0,
   "metadata": {
    "colab": {},
    "colab_type": "code",
    "id": "wxtJLwNnRG-2"
   },
   "outputs": [],
   "source": [
    "def random_models(layers,activation):\n",
    "  rand_model=Sequential()\n",
    "  rand_model.add(Dense(5,input_dim=5,kernel_initializer='normal',activation='relu'))\n",
    "  rand_model.add(Dense(5,kernel_initializer='normal',activation='relu'))\n",
    "\n",
    "  for i,nodes in enumerate(layers):\n",
    "    rand_model.add(Dense(nodes))\n",
    "    rand_model.add(Activation(activation))\n",
    "\n",
    "  rand_model.add(Dense(1,kernel_initializer='normal'))\n",
    "  rand_model.compile(loss='mean_squared_error',optimizer='adam')\n",
    "  return rand_model"
   ]
  },
  {
   "cell_type": "code",
   "execution_count": 0,
   "metadata": {
    "colab": {},
    "colab_type": "code",
    "id": "PFvRvLl8dLzT"
   },
   "outputs": [],
   "source": [
    "estimator_random=KerasRegressor( build_fn=random_models,verbose=0)\n",
    "\n",
    "layers=[(4,5,6),(5,6,7),(5,6,7,8)]\n",
    "activations=['relu','sigmoid']\n",
    "\n",
    "param_grid=dict(layers=layers,activation=activations,batch_size=[2,4],epochs=[10,15])\n",
    "\n",
    "grid=GridSearchCV(estimator=estimator_random,param_grid=param_grid,cv=6)"
   ]
  },
  {
   "cell_type": "code",
   "execution_count": 0,
   "metadata": {
    "colab": {},
    "colab_type": "code",
    "id": "V15EwkvJggS5"
   },
   "outputs": [],
   "source": [
    "X_train,X_test,Y_train,Y_test=train_test_split(X,Y,test_size=0.15)"
   ]
  },
  {
   "cell_type": "code",
   "execution_count": 0,
   "metadata": {
    "colab": {},
    "colab_type": "code",
    "id": "MXxH68UlgSWu"
   },
   "outputs": [],
   "source": [
    "grid_result=grid.fit(X_train,Y_train)"
   ]
  },
  {
   "cell_type": "code",
   "execution_count": 88,
   "metadata": {
    "colab": {
     "base_uri": "https://localhost:8080/",
     "height": 34
    },
    "colab_type": "code",
    "id": "EDYIsvEChMfX",
    "outputId": "c860a5ea-cff9-48cd-e096-5eae7b0794bd"
   },
   "outputs": [
    {
     "name": "stdout",
     "output_type": "stream",
     "text": [
      "-0.3869687296755377 {'activation': 'relu', 'batch_size': 4, 'epochs': 15, 'layers': (5, 6, 7)}\n"
     ]
    }
   ],
   "source": [
    "print(grid_result.best_score_,grid_result.best_params_)"
   ]
  },
  {
   "cell_type": "code",
   "execution_count": 0,
   "metadata": {
    "colab": {},
    "colab_type": "code",
    "id": "h22NEcBDh7Fq"
   },
   "outputs": [],
   "source": [
    "def build_final():\n",
    "  model_final=Sequential()\n",
    "  model_final.add(Dense(5,input_dim=5,kernel_initializer='normal',activation='relu'))\n",
    "  model_final.add(Dense(5,kernel_initializer='normal',activation='relu'))\n",
    "  model_final.add(Dense(5,kernel_initializer='normal',activation='relu'))\n",
    "  model_final.add(Dense(6,kernel_initializer='normal',activation='relu'))\n",
    "  model_final.add(Dense(7,kernel_initializer='normal',activation='relu'))\n",
    "  model_final.add(Dense(1,kernel_initializer='normal'))\n",
    "\n",
    "  model_final.compile(loss='mean_squared_error',optimizer='adam')\n",
    "  return model_final"
   ]
  },
  {
   "cell_type": "code",
   "execution_count": 0,
   "metadata": {
    "colab": {},
    "colab_type": "code",
    "id": "BzlBUaP1tWA-"
   },
   "outputs": [],
   "source": [
    "estimator_final=KerasRegressor( build_fn=build_final,epochs=15,batch_size=4,verbose=0)\n",
    "score_final=[]\n",
    "cv= KFold(n_splits=10, random_state=0, shuffle=True)\n",
    "for train_index, test_index in cv.split(X):\n",
    "  X_train, X_test, Y_train, Y_test = X.iloc[train_index], X.iloc[test_index], Y.iloc[train_index], Y.iloc[test_index]\n",
    "  estimator_final.fit(X_train,Y_train)\n",
    "  pred_final=estimator_final.predict(X_test)\n",
    "  err_final=np.mean(np.abs((Y_test['log(viscosity) in cP']-pred_final)/Y_test['log(viscosity) in cP'])*100)\n",
    "  score_final.append(err_final)"
   ]
  },
  {
   "cell_type": "code",
   "execution_count": 92,
   "metadata": {
    "colab": {
     "base_uri": "https://localhost:8080/",
     "height": 187
    },
    "colab_type": "code",
    "id": "wJc4pLVttp83",
    "outputId": "2d328f07-7b3b-4f31-87d0-359203740df5"
   },
   "outputs": [
    {
     "data": {
      "text/plain": [
       "[96.95819359081825,\n",
       " 97.29408459801262,\n",
       " 113.84219842977242,\n",
       " 50.753406871238006,\n",
       " 107.4146615329846,\n",
       " 109.05318852701373,\n",
       " 96.51761173949087,\n",
       " 105.53118438123053,\n",
       " 117.08984100423199,\n",
       " 117.93844251597228]"
      ]
     },
     "execution_count": 92,
     "metadata": {
      "tags": []
     },
     "output_type": "execute_result"
    }
   ],
   "source": [
    "score_final"
   ]
  },
  {
   "cell_type": "code",
   "execution_count": 91,
   "metadata": {
    "colab": {
     "base_uri": "https://localhost:8080/",
     "height": 34
    },
    "colab_type": "code",
    "id": "SmA4YfHuts0p",
    "outputId": "1bd2c70f-c712-4359-c14b-24a8ce034d04"
   },
   "outputs": [
    {
     "data": {
      "text/plain": [
       "101.23928131907653"
      ]
     },
     "execution_count": 91,
     "metadata": {
      "tags": []
     },
     "output_type": "execute_result"
    }
   ],
   "source": [
    "st.mean(score_final)"
   ]
  },
  {
   "cell_type": "code",
   "execution_count": 0,
   "metadata": {
    "colab": {},
    "colab_type": "code",
    "id": "HpPxVNQetwF4"
   },
   "outputs": [],
   "source": []
  }
 ],
 "metadata": {
  "colab": {
   "name": "DL models",
   "provenance": []
  },
  "kernelspec": {
   "display_name": "Python 3",
   "language": "python",
   "name": "python3"
  }
 },
 "nbformat": 4,
 "nbformat_minor": 1
}
