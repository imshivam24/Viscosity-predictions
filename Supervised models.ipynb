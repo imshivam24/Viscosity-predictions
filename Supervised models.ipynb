{
 "cells": [
  {
   "cell_type": "markdown",
   "metadata": {},
   "source": [
    "## Let's apply Linear, Lasso, Ridge, Random Forest, Xgboost algo's for prediction of viscosity"
   ]
  },
  {
   "cell_type": "code",
   "execution_count": 1,
   "metadata": {},
   "outputs": [],
   "source": [
    "import pandas as pd\n",
    "import numpy as np\n",
    "import matplotlib.pyplot as plt\n",
    "%matplotlib inline\n",
    "from sklearn.preprocessing import StandardScaler\n",
    "from sklearn.preprocessing import MinMaxScaler\n",
    "from sklearn.model_selection import train_test_split\n",
    "from sklearn.feature_selection import SelectFromModel\n",
    "import xgboost\n",
    "from xgboost import XGBRegressor\n",
    "from sklearn.ensemble import RandomForestRegressor\n",
    "from sklearn.linear_model import LinearRegression, Lasso ,Ridge \n",
    "from sklearn.metrics import r2_score\n",
    "from sklearn.model_selection import GridSearchCV"
   ]
  },
  {
   "cell_type": "code",
   "execution_count": 2,
   "metadata": {},
   "outputs": [],
   "source": [
    "data=pd.read_csv('Data.csv')"
   ]
  },
  {
   "cell_type": "code",
   "execution_count": 3,
   "metadata": {},
   "outputs": [
    {
     "data": {
      "text/html": [
       "<div>\n",
       "<style scoped>\n",
       "    .dataframe tbody tr th:only-of-type {\n",
       "        vertical-align: middle;\n",
       "    }\n",
       "\n",
       "    .dataframe tbody tr th {\n",
       "        vertical-align: top;\n",
       "    }\n",
       "\n",
       "    .dataframe thead th {\n",
       "        text-align: right;\n",
       "    }\n",
       "</style>\n",
       "<table border=\"1\" class=\"dataframe\">\n",
       "  <thead>\n",
       "    <tr style=\"text-align: right;\">\n",
       "      <th></th>\n",
       "      <th>log(shear rate) in s^-1</th>\n",
       "      <th>Polymer conc(wt%)</th>\n",
       "      <th>NaCl concentration(wt%)</th>\n",
       "      <th>Ca+2 concentration(wt%)</th>\n",
       "      <th>Temperature(in celsius)</th>\n",
       "      <th>log(viscosity) in cP</th>\n",
       "    </tr>\n",
       "  </thead>\n",
       "  <tbody>\n",
       "    <tr>\n",
       "      <th>0</th>\n",
       "      <td>0.010415</td>\n",
       "      <td>0.3</td>\n",
       "      <td>0.1</td>\n",
       "      <td>0.0</td>\n",
       "      <td>25.0</td>\n",
       "      <td>2309.56</td>\n",
       "    </tr>\n",
       "    <tr>\n",
       "      <th>1</th>\n",
       "      <td>0.022561</td>\n",
       "      <td>0.3</td>\n",
       "      <td>0.1</td>\n",
       "      <td>0.0</td>\n",
       "      <td>25.0</td>\n",
       "      <td>2298.77</td>\n",
       "    </tr>\n",
       "  </tbody>\n",
       "</table>\n",
       "</div>"
      ],
      "text/plain": [
       "   log(shear rate) in s^-1  Polymer conc(wt%)  NaCl concentration(wt%)  \\\n",
       "0                 0.010415                0.3                      0.1   \n",
       "1                 0.022561                0.3                      0.1   \n",
       "\n",
       "   Ca+2 concentration(wt%)  Temperature(in celsius)  log(viscosity) in cP  \n",
       "0                      0.0                     25.0               2309.56  \n",
       "1                      0.0                     25.0               2298.77  "
      ]
     },
     "execution_count": 3,
     "metadata": {},
     "output_type": "execute_result"
    }
   ],
   "source": [
    "data.head(2)"
   ]
  },
  {
   "cell_type": "code",
   "execution_count": 4,
   "metadata": {},
   "outputs": [],
   "source": [
    "# independent variables (X):shear rate, Polymer conc, NaCl concentration, Ca+2 concentration, Temperature\n",
    "# dependent variable (Y): Viscosity"
   ]
  },
  {
   "cell_type": "code",
   "execution_count": 5,
   "metadata": {},
   "outputs": [],
   "source": [
    "X=data[data.columns[0:5]]\n",
    "Y=data[['log(viscosity) in cP']]"
   ]
  },
  {
   "cell_type": "code",
   "execution_count": 6,
   "metadata": {},
   "outputs": [
    {
     "data": {
      "text/html": [
       "<div>\n",
       "<style scoped>\n",
       "    .dataframe tbody tr th:only-of-type {\n",
       "        vertical-align: middle;\n",
       "    }\n",
       "\n",
       "    .dataframe tbody tr th {\n",
       "        vertical-align: top;\n",
       "    }\n",
       "\n",
       "    .dataframe thead th {\n",
       "        text-align: right;\n",
       "    }\n",
       "</style>\n",
       "<table border=\"1\" class=\"dataframe\">\n",
       "  <thead>\n",
       "    <tr style=\"text-align: right;\">\n",
       "      <th></th>\n",
       "      <th>log(shear rate) in s^-1</th>\n",
       "      <th>Polymer conc(wt%)</th>\n",
       "      <th>NaCl concentration(wt%)</th>\n",
       "      <th>Ca+2 concentration(wt%)</th>\n",
       "      <th>Temperature(in celsius)</th>\n",
       "    </tr>\n",
       "  </thead>\n",
       "  <tbody>\n",
       "    <tr>\n",
       "      <th>0</th>\n",
       "      <td>0.010415</td>\n",
       "      <td>0.3</td>\n",
       "      <td>0.1</td>\n",
       "      <td>0.0</td>\n",
       "      <td>25.0</td>\n",
       "    </tr>\n",
       "    <tr>\n",
       "      <th>1</th>\n",
       "      <td>0.022561</td>\n",
       "      <td>0.3</td>\n",
       "      <td>0.1</td>\n",
       "      <td>0.0</td>\n",
       "      <td>25.0</td>\n",
       "    </tr>\n",
       "  </tbody>\n",
       "</table>\n",
       "</div>"
      ],
      "text/plain": [
       "   log(shear rate) in s^-1  Polymer conc(wt%)  NaCl concentration(wt%)  \\\n",
       "0                 0.010415                0.3                      0.1   \n",
       "1                 0.022561                0.3                      0.1   \n",
       "\n",
       "   Ca+2 concentration(wt%)  Temperature(in celsius)  \n",
       "0                      0.0                     25.0  \n",
       "1                      0.0                     25.0  "
      ]
     },
     "execution_count": 6,
     "metadata": {},
     "output_type": "execute_result"
    }
   ],
   "source": [
    "X.head(2)"
   ]
  },
  {
   "cell_type": "code",
   "execution_count": 7,
   "metadata": {},
   "outputs": [
    {
     "data": {
      "text/html": [
       "<div>\n",
       "<style scoped>\n",
       "    .dataframe tbody tr th:only-of-type {\n",
       "        vertical-align: middle;\n",
       "    }\n",
       "\n",
       "    .dataframe tbody tr th {\n",
       "        vertical-align: top;\n",
       "    }\n",
       "\n",
       "    .dataframe thead th {\n",
       "        text-align: right;\n",
       "    }\n",
       "</style>\n",
       "<table border=\"1\" class=\"dataframe\">\n",
       "  <thead>\n",
       "    <tr style=\"text-align: right;\">\n",
       "      <th></th>\n",
       "      <th>log(viscosity) in cP</th>\n",
       "    </tr>\n",
       "  </thead>\n",
       "  <tbody>\n",
       "    <tr>\n",
       "      <th>0</th>\n",
       "      <td>2309.56</td>\n",
       "    </tr>\n",
       "    <tr>\n",
       "      <th>1</th>\n",
       "      <td>2298.77</td>\n",
       "    </tr>\n",
       "  </tbody>\n",
       "</table>\n",
       "</div>"
      ],
      "text/plain": [
       "   log(viscosity) in cP\n",
       "0               2309.56\n",
       "1               2298.77"
      ]
     },
     "execution_count": 7,
     "metadata": {},
     "output_type": "execute_result"
    }
   ],
   "source": [
    "Y[0:2]"
   ]
  },
  {
   "cell_type": "markdown",
   "metadata": {},
   "source": [
    "### standardize the dependent variables"
   ]
  },
  {
   "cell_type": "code",
   "execution_count": 8,
   "metadata": {},
   "outputs": [],
   "source": [
    "scaler_1=StandardScaler()\n",
    "X=pd.DataFrame(scaler_1.fit_transform(X),columns=X.columns)"
   ]
  },
  {
   "cell_type": "markdown",
   "metadata": {},
   "source": [
    "### scaling viscosity values between 0 to 1"
   ]
  },
  {
   "cell_type": "code",
   "execution_count": 9,
   "metadata": {},
   "outputs": [],
   "source": [
    "scaler_2=MinMaxScaler()\n",
    "Y=pd.DataFrame(scaler_2.fit_transform(Y),columns=Y.columns)"
   ]
  },
  {
   "cell_type": "markdown",
   "metadata": {},
   "source": [
    "### train test split"
   ]
  },
  {
   "cell_type": "code",
   "execution_count": 10,
   "metadata": {},
   "outputs": [],
   "source": [
    "X_train,X_test,Y_train,Y_test=train_test_split(X,Y,random_state=0,test_size=0.15,shuffle=True)"
   ]
  },
  {
   "cell_type": "code",
   "execution_count": 11,
   "metadata": {},
   "outputs": [
    {
     "name": "stdout",
     "output_type": "stream",
     "text": [
      "(555, 5)\n",
      "(99, 5)\n"
     ]
    }
   ],
   "source": [
    "print(X_train.shape)\n",
    "print(X_test.shape)"
   ]
  },
  {
   "cell_type": "code",
   "execution_count": 12,
   "metadata": {},
   "outputs": [],
   "source": [
    "linear=LinearRegression()\n",
    "lasso=Lasso()\n",
    "ridge=Ridge()"
   ]
  },
  {
   "cell_type": "code",
   "execution_count": 13,
   "metadata": {},
   "outputs": [
    {
     "data": {
      "text/plain": [
       "LinearRegression(copy_X=True, fit_intercept=True, n_jobs=None, normalize=False)"
      ]
     },
     "execution_count": 13,
     "metadata": {},
     "output_type": "execute_result"
    }
   ],
   "source": [
    "linear.fit(X_train,Y_train)"
   ]
  },
  {
   "cell_type": "code",
   "execution_count": 14,
   "metadata": {},
   "outputs": [
    {
     "data": {
      "text/plain": [
       "Lasso(alpha=1.0, copy_X=True, fit_intercept=True, max_iter=1000,\n",
       "      normalize=False, positive=False, precompute=False, random_state=None,\n",
       "      selection='cyclic', tol=0.0001, warm_start=False)"
      ]
     },
     "execution_count": 14,
     "metadata": {},
     "output_type": "execute_result"
    }
   ],
   "source": [
    "lasso.fit(X_train,Y_train)"
   ]
  },
  {
   "cell_type": "code",
   "execution_count": 15,
   "metadata": {},
   "outputs": [
    {
     "data": {
      "text/plain": [
       "Ridge(alpha=1.0, copy_X=True, fit_intercept=True, max_iter=None,\n",
       "      normalize=False, random_state=None, solver='auto', tol=0.001)"
      ]
     },
     "execution_count": 15,
     "metadata": {},
     "output_type": "execute_result"
    }
   ],
   "source": [
    "ridge.fit(X_train,Y_train)"
   ]
  },
  {
   "cell_type": "code",
   "execution_count": 16,
   "metadata": {},
   "outputs": [],
   "source": [
    "pred_linear=linear.predict(X_test)\n",
    "pred_lasso=lasso.predict(X_test)\n",
    "pred_ridge=ridge.predict(X_test)"
   ]
  },
  {
   "cell_type": "code",
   "execution_count": 17,
   "metadata": {},
   "outputs": [
    {
     "name": "stderr",
     "output_type": "stream",
     "text": [
      "C:\\Users\\Kuntal\\anaconda3\\lib\\site-packages\\ipykernel_launcher.py:1: SettingWithCopyWarning: \n",
      "A value is trying to be set on a copy of a slice from a DataFrame.\n",
      "Try using .loc[row_indexer,col_indexer] = value instead\n",
      "\n",
      "See the caveats in the documentation: https://pandas.pydata.org/pandas-docs/stable/user_guide/indexing.html#returning-a-view-versus-a-copy\n",
      "  \"\"\"Entry point for launching an IPython kernel.\n",
      "C:\\Users\\Kuntal\\anaconda3\\lib\\site-packages\\ipykernel_launcher.py:2: SettingWithCopyWarning: \n",
      "A value is trying to be set on a copy of a slice from a DataFrame.\n",
      "Try using .loc[row_indexer,col_indexer] = value instead\n",
      "\n",
      "See the caveats in the documentation: https://pandas.pydata.org/pandas-docs/stable/user_guide/indexing.html#returning-a-view-versus-a-copy\n",
      "  \n",
      "C:\\Users\\Kuntal\\anaconda3\\lib\\site-packages\\ipykernel_launcher.py:3: SettingWithCopyWarning: \n",
      "A value is trying to be set on a copy of a slice from a DataFrame.\n",
      "Try using .loc[row_indexer,col_indexer] = value instead\n",
      "\n",
      "See the caveats in the documentation: https://pandas.pydata.org/pandas-docs/stable/user_guide/indexing.html#returning-a-view-versus-a-copy\n",
      "  This is separate from the ipykernel package so we can avoid doing imports until\n"
     ]
    }
   ],
   "source": [
    "Y_test['pred_linear']=pred_linear\n",
    "Y_test['pred_lasso']=pred_lasso\n",
    "Y_test['pred_ridge']=pred_ridge\n"
   ]
  },
  {
   "cell_type": "markdown",
   "metadata": {},
   "source": [
    "### why lasso regression is behaving in this manner"
   ]
  },
  {
   "cell_type": "code",
   "execution_count": 18,
   "metadata": {},
   "outputs": [
    {
     "data": {
      "text/plain": [
       "SelectFromModel(estimator=Lasso(alpha=1.0, copy_X=True, fit_intercept=True,\n",
       "                                max_iter=1000, normalize=False, positive=False,\n",
       "                                precompute=False, random_state=0,\n",
       "                                selection='cyclic', tol=0.0001,\n",
       "                                warm_start=False),\n",
       "                max_features=None, norm_order=1, prefit=False, threshold=None)"
      ]
     },
     "execution_count": 18,
     "metadata": {},
     "output_type": "execute_result"
    }
   ],
   "source": [
    "select_lasso=SelectFromModel(Lasso(random_state=0))\n",
    "select_lasso.fit(X_train,Y_train)"
   ]
  },
  {
   "cell_type": "code",
   "execution_count": 19,
   "metadata": {},
   "outputs": [
    {
     "data": {
      "text/plain": [
       "array([False, False, False, False, False])"
      ]
     },
     "execution_count": 19,
     "metadata": {},
     "output_type": "execute_result"
    }
   ],
   "source": [
    "select_lasso.get_support()"
   ]
  },
  {
   "cell_type": "code",
   "execution_count": 20,
   "metadata": {},
   "outputs": [
    {
     "data": {
      "text/plain": [
       "Index([], dtype='object')"
      ]
     },
     "execution_count": 20,
     "metadata": {},
     "output_type": "execute_result"
    }
   ],
   "source": [
    "X.columns[select_lasso.get_support()]"
   ]
  },
  {
   "cell_type": "markdown",
   "metadata": {},
   "source": [
    "#### This is the reason for bad performance of lasso regression"
   ]
  },
  {
   "cell_type": "code",
   "execution_count": 21,
   "metadata": {},
   "outputs": [
    {
     "data": {
      "text/plain": [
       "SelectFromModel(estimator=Ridge(alpha=1.0, copy_X=True, fit_intercept=True,\n",
       "                                max_iter=None, normalize=False, random_state=0,\n",
       "                                solver='auto', tol=0.001),\n",
       "                max_features=None, norm_order=1, prefit=False, threshold=None)"
      ]
     },
     "execution_count": 21,
     "metadata": {},
     "output_type": "execute_result"
    }
   ],
   "source": [
    "select_ridge=SelectFromModel(Ridge(random_state=0))\n",
    "select_ridge.fit(X_train,Y_train)"
   ]
  },
  {
   "cell_type": "code",
   "execution_count": 22,
   "metadata": {},
   "outputs": [
    {
     "data": {
      "text/plain": [
       "array([False,  True,  True,  True, False])"
      ]
     },
     "execution_count": 22,
     "metadata": {},
     "output_type": "execute_result"
    }
   ],
   "source": [
    "select_ridge.get_support()"
   ]
  },
  {
   "cell_type": "code",
   "execution_count": 23,
   "metadata": {},
   "outputs": [
    {
     "data": {
      "text/plain": [
       "Index(['Polymer conc(wt%)', 'NaCl concentration(wt%)',\n",
       "       'Ca+2 concentration(wt%)'],\n",
       "      dtype='object')"
      ]
     },
     "execution_count": 23,
     "metadata": {},
     "output_type": "execute_result"
    }
   ],
   "source": [
    "X.columns[select_ridge.get_support()]"
   ]
  },
  {
   "cell_type": "markdown",
   "metadata": {},
   "source": [
    "### above explains why ridge is performing better"
   ]
  },
  {
   "cell_type": "markdown",
   "metadata": {},
   "source": [
    "### Random forest and XGboost"
   ]
  },
  {
   "cell_type": "code",
   "execution_count": 24,
   "metadata": {},
   "outputs": [
    {
     "data": {
      "text/plain": [
       "XGBRegressor(base_score=0.5, booster='gbtree', colsample_bylevel=1,\n",
       "             colsample_bynode=1, colsample_bytree=1, gamma=0, gpu_id=-1,\n",
       "             importance_type='gain', interaction_constraints='',\n",
       "             learning_rate=0.300000012, max_delta_step=0, max_depth=6,\n",
       "             min_child_weight=1, missing=nan, monotone_constraints='()',\n",
       "             n_estimators=100, n_jobs=0, num_parallel_tree=1,\n",
       "             objective='reg:squarederror', random_state=0, reg_alpha=0,\n",
       "             reg_lambda=1, scale_pos_weight=1, subsample=1, tree_method='exact',\n",
       "             validate_parameters=1, verbosity=None)"
      ]
     },
     "execution_count": 24,
     "metadata": {},
     "output_type": "execute_result"
    }
   ],
   "source": [
    "xgb=XGBRegressor()\n",
    "xgb.fit(X_train,Y_train)"
   ]
  },
  {
   "cell_type": "code",
   "execution_count": 25,
   "metadata": {},
   "outputs": [],
   "source": [
    "pred_xgb=xgb.predict(X_test)"
   ]
  },
  {
   "cell_type": "code",
   "execution_count": 26,
   "metadata": {},
   "outputs": [],
   "source": [
    "# we can get some how much importance is given to different features while prediction"
   ]
  },
  {
   "cell_type": "code",
   "execution_count": 27,
   "metadata": {},
   "outputs": [
    {
     "data": {
      "text/plain": [
       "Index(['log(shear rate) in s^-1', 'Polymer conc(wt%)',\n",
       "       'NaCl concentration(wt%)', 'Ca+2 concentration(wt%)',\n",
       "       'Temperature(in celsius)'],\n",
       "      dtype='object')"
      ]
     },
     "execution_count": 27,
     "metadata": {},
     "output_type": "execute_result"
    }
   ],
   "source": [
    "X.columns"
   ]
  },
  {
   "cell_type": "code",
   "execution_count": 28,
   "metadata": {},
   "outputs": [
    {
     "data": {
      "text/plain": [
       "array([6.6579990e-02, 5.7819480e-01, 1.4500351e-01, 2.0975587e-01,\n",
       "       4.6576138e-04], dtype=float32)"
      ]
     },
     "execution_count": 28,
     "metadata": {},
     "output_type": "execute_result"
    }
   ],
   "source": [
    "xgb.feature_importances_"
   ]
  },
  {
   "cell_type": "code",
   "execution_count": 29,
   "metadata": {},
   "outputs": [
    {
     "name": "stderr",
     "output_type": "stream",
     "text": [
      "C:\\Users\\Kuntal\\anaconda3\\lib\\site-packages\\ipykernel_launcher.py:1: SettingWithCopyWarning: \n",
      "A value is trying to be set on a copy of a slice from a DataFrame.\n",
      "Try using .loc[row_indexer,col_indexer] = value instead\n",
      "\n",
      "See the caveats in the documentation: https://pandas.pydata.org/pandas-docs/stable/user_guide/indexing.html#returning-a-view-versus-a-copy\n",
      "  \"\"\"Entry point for launching an IPython kernel.\n"
     ]
    }
   ],
   "source": [
    "Y_test['pred_xgb']=pred_xgb"
   ]
  },
  {
   "cell_type": "markdown",
   "metadata": {},
   "source": [
    "### random forest"
   ]
  },
  {
   "cell_type": "code",
   "execution_count": 30,
   "metadata": {},
   "outputs": [
    {
     "name": "stderr",
     "output_type": "stream",
     "text": [
      "C:\\Users\\Kuntal\\anaconda3\\lib\\site-packages\\ipykernel_launcher.py:2: DataConversionWarning: A column-vector y was passed when a 1d array was expected. Please change the shape of y to (n_samples,), for example using ravel().\n",
      "  \n"
     ]
    },
    {
     "data": {
      "text/plain": [
       "RandomForestRegressor(bootstrap=True, ccp_alpha=0.0, criterion='mse',\n",
       "                      max_depth=None, max_features='auto', max_leaf_nodes=None,\n",
       "                      max_samples=None, min_impurity_decrease=0.0,\n",
       "                      min_impurity_split=None, min_samples_leaf=1,\n",
       "                      min_samples_split=2, min_weight_fraction_leaf=0.0,\n",
       "                      n_estimators=100, n_jobs=None, oob_score=False,\n",
       "                      random_state=None, verbose=0, warm_start=False)"
      ]
     },
     "execution_count": 30,
     "metadata": {},
     "output_type": "execute_result"
    }
   ],
   "source": [
    "RF= RandomForestRegressor()\n",
    "RF.fit(X_train,Y_train)"
   ]
  },
  {
   "cell_type": "code",
   "execution_count": 31,
   "metadata": {},
   "outputs": [],
   "source": [
    "pred_RF=RF.predict(X_test)"
   ]
  },
  {
   "cell_type": "code",
   "execution_count": 32,
   "metadata": {},
   "outputs": [
    {
     "data": {
      "text/plain": [
       "Index(['log(shear rate) in s^-1', 'Polymer conc(wt%)',\n",
       "       'NaCl concentration(wt%)', 'Ca+2 concentration(wt%)',\n",
       "       'Temperature(in celsius)'],\n",
       "      dtype='object')"
      ]
     },
     "execution_count": 32,
     "metadata": {},
     "output_type": "execute_result"
    }
   ],
   "source": [
    "X.columns"
   ]
  },
  {
   "cell_type": "code",
   "execution_count": 33,
   "metadata": {},
   "outputs": [
    {
     "data": {
      "text/plain": [
       "array([2.69214062e-01, 4.34452706e-01, 1.06046381e-01, 1.90216392e-01,\n",
       "       7.04586252e-05])"
      ]
     },
     "execution_count": 33,
     "metadata": {},
     "output_type": "execute_result"
    }
   ],
   "source": [
    "RF.feature_importances_"
   ]
  },
  {
   "cell_type": "code",
   "execution_count": 34,
   "metadata": {},
   "outputs": [
    {
     "name": "stderr",
     "output_type": "stream",
     "text": [
      "C:\\Users\\Kuntal\\anaconda3\\lib\\site-packages\\ipykernel_launcher.py:1: SettingWithCopyWarning: \n",
      "A value is trying to be set on a copy of a slice from a DataFrame.\n",
      "Try using .loc[row_indexer,col_indexer] = value instead\n",
      "\n",
      "See the caveats in the documentation: https://pandas.pydata.org/pandas-docs/stable/user_guide/indexing.html#returning-a-view-versus-a-copy\n",
      "  \"\"\"Entry point for launching an IPython kernel.\n"
     ]
    }
   ],
   "source": [
    "Y_test['pred_RF']=pred_RF"
   ]
  },
  {
   "cell_type": "code",
   "execution_count": 35,
   "metadata": {},
   "outputs": [
    {
     "data": {
      "text/html": [
       "<div>\n",
       "<style scoped>\n",
       "    .dataframe tbody tr th:only-of-type {\n",
       "        vertical-align: middle;\n",
       "    }\n",
       "\n",
       "    .dataframe tbody tr th {\n",
       "        vertical-align: top;\n",
       "    }\n",
       "\n",
       "    .dataframe thead th {\n",
       "        text-align: right;\n",
       "    }\n",
       "</style>\n",
       "<table border=\"1\" class=\"dataframe\">\n",
       "  <thead>\n",
       "    <tr style=\"text-align: right;\">\n",
       "      <th></th>\n",
       "      <th>log(viscosity) in cP</th>\n",
       "      <th>pred_linear</th>\n",
       "      <th>pred_lasso</th>\n",
       "      <th>pred_ridge</th>\n",
       "      <th>pred_xgb</th>\n",
       "      <th>pred_RF</th>\n",
       "    </tr>\n",
       "  </thead>\n",
       "  <tbody>\n",
       "    <tr>\n",
       "      <th>535</th>\n",
       "      <td>0.011565</td>\n",
       "      <td>0.041858</td>\n",
       "      <td>0.0307</td>\n",
       "      <td>0.041810</td>\n",
       "      <td>0.010752</td>\n",
       "      <td>0.009761</td>\n",
       "    </tr>\n",
       "    <tr>\n",
       "      <th>492</th>\n",
       "      <td>0.479771</td>\n",
       "      <td>0.104577</td>\n",
       "      <td>0.0307</td>\n",
       "      <td>0.104350</td>\n",
       "      <td>0.988122</td>\n",
       "      <td>0.963100</td>\n",
       "    </tr>\n",
       "    <tr>\n",
       "      <th>14</th>\n",
       "      <td>0.302129</td>\n",
       "      <td>0.069757</td>\n",
       "      <td>0.0307</td>\n",
       "      <td>0.069658</td>\n",
       "      <td>0.315950</td>\n",
       "      <td>0.304569</td>\n",
       "    </tr>\n",
       "    <tr>\n",
       "      <th>247</th>\n",
       "      <td>0.016399</td>\n",
       "      <td>0.076284</td>\n",
       "      <td>0.0307</td>\n",
       "      <td>0.076108</td>\n",
       "      <td>0.019927</td>\n",
       "      <td>0.017803</td>\n",
       "    </tr>\n",
       "    <tr>\n",
       "      <th>85</th>\n",
       "      <td>0.003802</td>\n",
       "      <td>0.021742</td>\n",
       "      <td>0.0307</td>\n",
       "      <td>0.021794</td>\n",
       "      <td>0.003877</td>\n",
       "      <td>0.003845</td>\n",
       "    </tr>\n",
       "    <tr>\n",
       "      <th>127</th>\n",
       "      <td>0.006506</td>\n",
       "      <td>0.012577</td>\n",
       "      <td>0.0307</td>\n",
       "      <td>0.012582</td>\n",
       "      <td>0.006815</td>\n",
       "      <td>0.006545</td>\n",
       "    </tr>\n",
       "    <tr>\n",
       "      <th>586</th>\n",
       "      <td>0.439753</td>\n",
       "      <td>0.104573</td>\n",
       "      <td>0.0307</td>\n",
       "      <td>0.104347</td>\n",
       "      <td>0.636553</td>\n",
       "      <td>0.662505</td>\n",
       "    </tr>\n",
       "    <tr>\n",
       "      <th>529</th>\n",
       "      <td>0.015567</td>\n",
       "      <td>0.056558</td>\n",
       "      <td>0.0307</td>\n",
       "      <td>0.056483</td>\n",
       "      <td>0.012935</td>\n",
       "      <td>0.015803</td>\n",
       "    </tr>\n",
       "    <tr>\n",
       "      <th>330</th>\n",
       "      <td>0.006222</td>\n",
       "      <td>-0.001054</td>\n",
       "      <td>0.0307</td>\n",
       "      <td>-0.000903</td>\n",
       "      <td>0.005900</td>\n",
       "      <td>0.006489</td>\n",
       "    </tr>\n",
       "    <tr>\n",
       "      <th>483</th>\n",
       "      <td>0.000240</td>\n",
       "      <td>-0.040078</td>\n",
       "      <td>0.0307</td>\n",
       "      <td>-0.039882</td>\n",
       "      <td>0.001186</td>\n",
       "      <td>0.000533</td>\n",
       "    </tr>\n",
       "  </tbody>\n",
       "</table>\n",
       "</div>"
      ],
      "text/plain": [
       "     log(viscosity) in cP  pred_linear  pred_lasso  pred_ridge  pred_xgb  \\\n",
       "535              0.011565     0.041858      0.0307    0.041810  0.010752   \n",
       "492              0.479771     0.104577      0.0307    0.104350  0.988122   \n",
       "14               0.302129     0.069757      0.0307    0.069658  0.315950   \n",
       "247              0.016399     0.076284      0.0307    0.076108  0.019927   \n",
       "85               0.003802     0.021742      0.0307    0.021794  0.003877   \n",
       "127              0.006506     0.012577      0.0307    0.012582  0.006815   \n",
       "586              0.439753     0.104573      0.0307    0.104347  0.636553   \n",
       "529              0.015567     0.056558      0.0307    0.056483  0.012935   \n",
       "330              0.006222    -0.001054      0.0307   -0.000903  0.005900   \n",
       "483              0.000240    -0.040078      0.0307   -0.039882  0.001186   \n",
       "\n",
       "      pred_RF  \n",
       "535  0.009761  \n",
       "492  0.963100  \n",
       "14   0.304569  \n",
       "247  0.017803  \n",
       "85   0.003845  \n",
       "127  0.006545  \n",
       "586  0.662505  \n",
       "529  0.015803  \n",
       "330  0.006489  \n",
       "483  0.000533  "
      ]
     },
     "execution_count": 35,
     "metadata": {},
     "output_type": "execute_result"
    }
   ],
   "source": [
    "Y_test.head(10)"
   ]
  },
  {
   "cell_type": "markdown",
   "metadata": {},
   "source": [
    "### Calculating Mean absolute percentage error in prediction"
   ]
  },
  {
   "cell_type": "code",
   "execution_count": 36,
   "metadata": {},
   "outputs": [],
   "source": [
    "err_linear=np.mean(np.abs((Y_test['log(viscosity) in cP']-Y_test['pred_linear'])/Y_test['log(viscosity) in cP'])*100)\n",
    "err_lasso=np.mean(np.abs((Y_test['log(viscosity) in cP']-Y_test['pred_lasso'])/Y_test['log(viscosity) in cP'])*100)\n",
    "err_ridge=np.mean(np.abs((Y_test['log(viscosity) in cP']-Y_test['pred_ridge'])/Y_test['log(viscosity) in cP'])*100)\n",
    "err_xgb=np.mean(np.abs((Y_test['log(viscosity) in cP']-Y_test['pred_xgb'])/Y_test['log(viscosity) in cP'])*100)\n",
    "err_RF=np.mean(np.abs((Y_test['log(viscosity) in cP']-Y_test['pred_RF'])/Y_test['log(viscosity) in cP'])*100)"
   ]
  },
  {
   "cell_type": "code",
   "execution_count": 37,
   "metadata": {},
   "outputs": [
    {
     "name": "stdout",
     "output_type": "stream",
     "text": [
      "MAPE in linear model predictions : 919.6201829041855 \n",
      "MAPE in lasso model predictions : 865.1112041236879 \n",
      "MAPE in ridge model predictions : 916.7047391249197 \n",
      "MAPE in Xgboost model predictions : 34.02340475528004 \n",
      "MAPE in Random forest model predictions : 33.82296529356474 \n"
     ]
    }
   ],
   "source": [
    "print(\"MAPE in linear model predictions : {} \".format(err_linear))\n",
    "print(\"MAPE in lasso model predictions : {} \".format(err_lasso))\n",
    "print(\"MAPE in ridge model predictions : {} \".format(err_ridge))\n",
    "print(\"MAPE in Xgboost model predictions : {} \".format(err_xgb))\n",
    "print(\"MAPE in Random forest model predictions : {} \".format(err_RF))"
   ]
  },
  {
   "cell_type": "markdown",
   "metadata": {},
   "source": [
    "####  For sure linear models are giving extremely vague results as it seems none of the feature is linearly related with viscosity while on the other hand Random forest and Xgboost algorithms can be further tuned as they for promising results as they can handle non-linearities in relations"
   ]
  },
  {
   "cell_type": "markdown",
   "metadata": {},
   "source": [
    "### Fine tuning of base RF and XGB models"
   ]
  },
  {
   "cell_type": "code",
   "execution_count": 38,
   "metadata": {
    "scrolled": true
   },
   "outputs": [
    {
     "data": {
      "text/plain": [
       "GridSearchCV(cv=5, error_score=nan,\n",
       "             estimator=RandomForestRegressor(bootstrap=True, ccp_alpha=0.0,\n",
       "                                             criterion='mse', max_depth=None,\n",
       "                                             max_features='auto',\n",
       "                                             max_leaf_nodes=None,\n",
       "                                             max_samples=None,\n",
       "                                             min_impurity_decrease=0.0,\n",
       "                                             min_impurity_split=None,\n",
       "                                             min_samples_leaf=1,\n",
       "                                             min_samples_split=2,\n",
       "                                             min_weight_fraction_leaf=0.0,\n",
       "                                             n_estimators=100, n_jobs=None,\n",
       "                                             oob_score=False, random_state=None,\n",
       "                                             verbose=0, warm_start=False),\n",
       "             iid='deprecated', n_jobs=None,\n",
       "             param_grid={'n_estimators': [50, 80, 100, 120]},\n",
       "             pre_dispatch='2*n_jobs', refit=True, return_train_score=False,\n",
       "             scoring='neg_mean_squared_error', verbose=0)"
      ]
     },
     "execution_count": 38,
     "metadata": {},
     "output_type": "execute_result"
    }
   ],
   "source": [
    "RF_tuned=RandomForestRegressor()\n",
    "\n",
    "parameters={'n_estimators':[50,80,100,120],\n",
    "           }\n",
    "RF_reg=GridSearchCV(RF_tuned,parameters,scoring='neg_mean_squared_error',cv=5)\n",
    "Y_train=Y_train.to_numpy()\n",
    "Y_train=Y_train.ravel()\n",
    "RF_reg.fit(X_train,Y_train)"
   ]
  },
  {
   "cell_type": "code",
   "execution_count": 39,
   "metadata": {},
   "outputs": [
    {
     "name": "stdout",
     "output_type": "stream",
     "text": [
      "{'n_estimators': 100}\n",
      "-0.001139362423841153\n"
     ]
    }
   ],
   "source": [
    "print(RF_reg.best_params_)\n",
    "print(RF_reg.best_score_)"
   ]
  },
  {
   "cell_type": "code",
   "execution_count": 40,
   "metadata": {},
   "outputs": [
    {
     "data": {
      "text/plain": [
       "RandomForestRegressor(bootstrap=True, ccp_alpha=0.0, criterion='mse',\n",
       "                      max_depth=None, max_features='auto', max_leaf_nodes=None,\n",
       "                      max_samples=None, min_impurity_decrease=0.0,\n",
       "                      min_impurity_split=None, min_samples_leaf=1,\n",
       "                      min_samples_split=2, min_weight_fraction_leaf=0.0,\n",
       "                      n_estimators=100, n_jobs=None, oob_score=False,\n",
       "                      random_state=None, verbose=0, warm_start=False)"
      ]
     },
     "execution_count": 40,
     "metadata": {},
     "output_type": "execute_result"
    }
   ],
   "source": [
    "RF_final=RandomForestRegressor(n_estimators=100)\n",
    "RF_final.fit(X_train,Y_train)"
   ]
  },
  {
   "cell_type": "code",
   "execution_count": 41,
   "metadata": {},
   "outputs": [],
   "source": [
    "RF_final_pred=RF_final.predict(X_test)"
   ]
  },
  {
   "cell_type": "code",
   "execution_count": 42,
   "metadata": {},
   "outputs": [
    {
     "name": "stderr",
     "output_type": "stream",
     "text": [
      "C:\\Users\\Kuntal\\anaconda3\\lib\\site-packages\\ipykernel_launcher.py:1: SettingWithCopyWarning: \n",
      "A value is trying to be set on a copy of a slice from a DataFrame.\n",
      "Try using .loc[row_indexer,col_indexer] = value instead\n",
      "\n",
      "See the caveats in the documentation: https://pandas.pydata.org/pandas-docs/stable/user_guide/indexing.html#returning-a-view-versus-a-copy\n",
      "  \"\"\"Entry point for launching an IPython kernel.\n"
     ]
    }
   ],
   "source": [
    "Y_test['RF_tuned_pred']=RF_final_pred"
   ]
  },
  {
   "cell_type": "code",
   "execution_count": 43,
   "metadata": {},
   "outputs": [
    {
     "name": "stdout",
     "output_type": "stream",
     "text": [
      "31.471701848090095\n"
     ]
    }
   ],
   "source": [
    "err_RF_tuned=np.mean(np.abs((Y_test['log(viscosity) in cP']-Y_test['RF_tuned_pred'])/Y_test['log(viscosity) in cP'])*100)\n",
    "print(err_RF_tuned)"
   ]
  },
  {
   "cell_type": "code",
   "execution_count": 44,
   "metadata": {},
   "outputs": [
    {
     "data": {
      "text/html": [
       "<div>\n",
       "<style scoped>\n",
       "    .dataframe tbody tr th:only-of-type {\n",
       "        vertical-align: middle;\n",
       "    }\n",
       "\n",
       "    .dataframe tbody tr th {\n",
       "        vertical-align: top;\n",
       "    }\n",
       "\n",
       "    .dataframe thead th {\n",
       "        text-align: right;\n",
       "    }\n",
       "</style>\n",
       "<table border=\"1\" class=\"dataframe\">\n",
       "  <thead>\n",
       "    <tr style=\"text-align: right;\">\n",
       "      <th></th>\n",
       "      <th>log(viscosity) in cP</th>\n",
       "      <th>pred_linear</th>\n",
       "      <th>pred_lasso</th>\n",
       "      <th>pred_ridge</th>\n",
       "      <th>pred_xgb</th>\n",
       "      <th>pred_RF</th>\n",
       "      <th>RF_tuned_pred</th>\n",
       "    </tr>\n",
       "  </thead>\n",
       "  <tbody>\n",
       "    <tr>\n",
       "      <th>535</th>\n",
       "      <td>0.011565</td>\n",
       "      <td>0.041858</td>\n",
       "      <td>0.0307</td>\n",
       "      <td>0.041810</td>\n",
       "      <td>0.010752</td>\n",
       "      <td>0.009761</td>\n",
       "      <td>0.009894</td>\n",
       "    </tr>\n",
       "    <tr>\n",
       "      <th>492</th>\n",
       "      <td>0.479771</td>\n",
       "      <td>0.104577</td>\n",
       "      <td>0.0307</td>\n",
       "      <td>0.104350</td>\n",
       "      <td>0.988122</td>\n",
       "      <td>0.963100</td>\n",
       "      <td>0.946483</td>\n",
       "    </tr>\n",
       "    <tr>\n",
       "      <th>14</th>\n",
       "      <td>0.302129</td>\n",
       "      <td>0.069757</td>\n",
       "      <td>0.0307</td>\n",
       "      <td>0.069658</td>\n",
       "      <td>0.315950</td>\n",
       "      <td>0.304569</td>\n",
       "      <td>0.309732</td>\n",
       "    </tr>\n",
       "    <tr>\n",
       "      <th>247</th>\n",
       "      <td>0.016399</td>\n",
       "      <td>0.076284</td>\n",
       "      <td>0.0307</td>\n",
       "      <td>0.076108</td>\n",
       "      <td>0.019927</td>\n",
       "      <td>0.017803</td>\n",
       "      <td>0.017974</td>\n",
       "    </tr>\n",
       "    <tr>\n",
       "      <th>85</th>\n",
       "      <td>0.003802</td>\n",
       "      <td>0.021742</td>\n",
       "      <td>0.0307</td>\n",
       "      <td>0.021794</td>\n",
       "      <td>0.003877</td>\n",
       "      <td>0.003845</td>\n",
       "      <td>0.003844</td>\n",
       "    </tr>\n",
       "    <tr>\n",
       "      <th>127</th>\n",
       "      <td>0.006506</td>\n",
       "      <td>0.012577</td>\n",
       "      <td>0.0307</td>\n",
       "      <td>0.012582</td>\n",
       "      <td>0.006815</td>\n",
       "      <td>0.006545</td>\n",
       "      <td>0.006423</td>\n",
       "    </tr>\n",
       "    <tr>\n",
       "      <th>586</th>\n",
       "      <td>0.439753</td>\n",
       "      <td>0.104573</td>\n",
       "      <td>0.0307</td>\n",
       "      <td>0.104347</td>\n",
       "      <td>0.636553</td>\n",
       "      <td>0.662505</td>\n",
       "      <td>0.614891</td>\n",
       "    </tr>\n",
       "    <tr>\n",
       "      <th>529</th>\n",
       "      <td>0.015567</td>\n",
       "      <td>0.056558</td>\n",
       "      <td>0.0307</td>\n",
       "      <td>0.056483</td>\n",
       "      <td>0.012935</td>\n",
       "      <td>0.015803</td>\n",
       "      <td>0.015724</td>\n",
       "    </tr>\n",
       "    <tr>\n",
       "      <th>330</th>\n",
       "      <td>0.006222</td>\n",
       "      <td>-0.001054</td>\n",
       "      <td>0.0307</td>\n",
       "      <td>-0.000903</td>\n",
       "      <td>0.005900</td>\n",
       "      <td>0.006489</td>\n",
       "      <td>0.006479</td>\n",
       "    </tr>\n",
       "    <tr>\n",
       "      <th>483</th>\n",
       "      <td>0.000240</td>\n",
       "      <td>-0.040078</td>\n",
       "      <td>0.0307</td>\n",
       "      <td>-0.039882</td>\n",
       "      <td>0.001186</td>\n",
       "      <td>0.000533</td>\n",
       "      <td>0.000522</td>\n",
       "    </tr>\n",
       "  </tbody>\n",
       "</table>\n",
       "</div>"
      ],
      "text/plain": [
       "     log(viscosity) in cP  pred_linear  pred_lasso  pred_ridge  pred_xgb  \\\n",
       "535              0.011565     0.041858      0.0307    0.041810  0.010752   \n",
       "492              0.479771     0.104577      0.0307    0.104350  0.988122   \n",
       "14               0.302129     0.069757      0.0307    0.069658  0.315950   \n",
       "247              0.016399     0.076284      0.0307    0.076108  0.019927   \n",
       "85               0.003802     0.021742      0.0307    0.021794  0.003877   \n",
       "127              0.006506     0.012577      0.0307    0.012582  0.006815   \n",
       "586              0.439753     0.104573      0.0307    0.104347  0.636553   \n",
       "529              0.015567     0.056558      0.0307    0.056483  0.012935   \n",
       "330              0.006222    -0.001054      0.0307   -0.000903  0.005900   \n",
       "483              0.000240    -0.040078      0.0307   -0.039882  0.001186   \n",
       "\n",
       "      pred_RF  RF_tuned_pred  \n",
       "535  0.009761       0.009894  \n",
       "492  0.963100       0.946483  \n",
       "14   0.304569       0.309732  \n",
       "247  0.017803       0.017974  \n",
       "85   0.003845       0.003844  \n",
       "127  0.006545       0.006423  \n",
       "586  0.662505       0.614891  \n",
       "529  0.015803       0.015724  \n",
       "330  0.006489       0.006479  \n",
       "483  0.000533       0.000522  "
      ]
     },
     "execution_count": 44,
     "metadata": {},
     "output_type": "execute_result"
    }
   ],
   "source": [
    "Y_test.head(10)"
   ]
  },
  {
   "cell_type": "code",
   "execution_count": null,
   "metadata": {},
   "outputs": [],
   "source": []
  }
 ],
 "metadata": {
  "kernelspec": {
   "display_name": "Python 3",
   "language": "python",
   "name": "python3"
  },
  "language_info": {
   "codemirror_mode": {
    "name": "ipython",
    "version": 3
   },
   "file_extension": ".py",
   "mimetype": "text/x-python",
   "name": "python",
   "nbconvert_exporter": "python",
   "pygments_lexer": "ipython3",
   "version": "3.7.6"
  }
 },
 "nbformat": 4,
 "nbformat_minor": 4
}
